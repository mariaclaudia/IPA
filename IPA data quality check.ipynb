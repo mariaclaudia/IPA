{
 "cells": [
  {
   "cell_type": "markdown",
   "metadata": {},
   "source": [
    "# IPA\n",
    "\n",
    "Il [sito dell'iPA](https://www.indicepa.gov.it), in quanto sito ufficiale della Pubblica Amministrazione, offre ai suoi utenti informazioni dettagliate sulla struttura organizzativa degli Enti, sulla loro articolazione in uffici centrali e periferici, sulla posta elettronica certificata e su una serie di altri servizi offerti dalle varie strutture.     \n",
    "\n",
    "\n",
    "### I numeri dell'iPA\n",
    "\n",
    "Enti accreditati:\t22.805\n",
    "\n",
    "Unità organizzative:\t96.007\n",
    "\n",
    "Uffici di protocollo:\t33.007\n",
    "\n",
    "Indirizzi PEC:\t123.356\n",
    "\n",
    "Servizi di fatturazione elettronica\t57.621\n",
    "\n",
    "### Dataset opendata\n",
    "https://www.indicepa.gov.it/documentale/n-opendata.php\n",
    "\n",
    "[Metadati](https://www.indicepa.gov.it/public-services/docs-read-service.php?dstype=FS&filename=Metadati_Open_Data.pdf)\n",
    "\n",
    "<img src=\"doc/ipa_db.png\">\n",
    "\n",
    "#### Dataset utilizzati in triplificatore\n",
    "\n",
    "\n",
    "    "
   ]
  },
  {
   "cell_type": "code",
   "execution_count": 50,
   "metadata": {},
   "outputs": [],
   "source": [
    "%matplotlib inline\n",
    "import numpy as np\n",
    "import matplotlib.pyplot as plt\n",
    "import pandas as pd\n",
    "pd.set_option('display.width', 500)\n",
    "pd.set_option('display.max_columns', 100)"
   ]
  },
  {
   "cell_type": "markdown",
   "metadata": {},
   "source": [
    "#### Link risorse"
   ]
  },
  {
   "cell_type": "code",
   "execution_count": 48,
   "metadata": {},
   "outputs": [],
   "source": [
    "# url dataset\n",
    "u_amministrazioni = \"https://www.indicepa.gov.it/public-services/opendata-read-service.php?dstype=FS&filename=amministrazioni.txt\"\n",
    "u_aoo = \"https://www.indicepa.gov.it/public-services/opendata-read-service.php?dstype=FS&filename=aoo.txt\"\n",
    "u_ou = \"https://www.indicepa.gov.it/public-services/opendata-read-service.php?dstype=FS&filename=ou.txt\"\n",
    "u_pec = \"https://www.indicepa.gov.it/public-services/opendata-read-service.php?dstype=FS&filename=pec.txt\"\n",
    "u_porta_dominio = \"https://www.indicepa.gov.it/public-services/opendata-read-service.php?dstype=FS&filename=porta_dominio.txt\"\n",
    "u_serv_amm = \"https://www.indicepa.gov.it/public-services/opendata-read-service.php?dstype=FS&filename=serv_amm.txt\"\n",
    "u_serv_aoo = \"https://www.indicepa.gov.it/public-services/opendata-read-service.php?dstype=FS&filename=serv_aoo.txt\"\n",
    "u_serv_fatt = \"https://www.indicepa.gov.it/public-services/opendata-read-service.php?dstype=FS&filename=serv_fatt.txt\"\n",
    "u_serv_ou = \"https://www.indicepa.gov.it/public-services/opendata-read-service.php?dstype=FS&filename=serv_ou.txt\""
   ]
  },
  {
   "cell_type": "markdown",
   "metadata": {},
   "source": [
    "### Amministrazioni\n"
   ]
  },
  {
   "cell_type": "code",
   "execution_count": 43,
   "metadata": {},
   "outputs": [
    {
     "data": {
      "text/html": [
       "<div>\n",
       "<style scoped>\n",
       "    .dataframe tbody tr th:only-of-type {\n",
       "        vertical-align: middle;\n",
       "    }\n",
       "\n",
       "    .dataframe tbody tr th {\n",
       "        vertical-align: top;\n",
       "    }\n",
       "\n",
       "    .dataframe thead th {\n",
       "        text-align: right;\n",
       "    }\n",
       "</style>\n",
       "<table border=\"1\" class=\"dataframe\">\n",
       "  <thead>\n",
       "    <tr style=\"text-align: right;\">\n",
       "      <th></th>\n",
       "      <th>cod_amm</th>\n",
       "      <th>des_amm</th>\n",
       "      <th>Comune</th>\n",
       "      <th>nome_resp</th>\n",
       "      <th>cogn_resp</th>\n",
       "      <th>Cap</th>\n",
       "      <th>Provincia</th>\n",
       "      <th>Regione</th>\n",
       "      <th>sito_istituzionale</th>\n",
       "      <th>Indirizzo</th>\n",
       "      <th>titolo_resp</th>\n",
       "      <th>tipologia_istat</th>\n",
       "      <th>tipologia_amm</th>\n",
       "      <th>acronimo</th>\n",
       "      <th>cf_validato</th>\n",
       "      <th>Cf</th>\n",
       "      <th>mail1</th>\n",
       "      <th>tipo_mail1</th>\n",
       "      <th>mail2</th>\n",
       "      <th>tipo_mail2</th>\n",
       "      <th>mail3</th>\n",
       "      <th>tipo_mail3</th>\n",
       "      <th>mail4</th>\n",
       "      <th>tipo_mail4</th>\n",
       "      <th>mail5</th>\n",
       "      <th>tipo_mail5</th>\n",
       "      <th>url_facebook</th>\n",
       "      <th>url_twitter</th>\n",
       "      <th>url_googleplus</th>\n",
       "      <th>url_youtube</th>\n",
       "      <th>liv_accessibili</th>\n",
       "    </tr>\n",
       "  </thead>\n",
       "  <tbody>\n",
       "    <tr>\n",
       "      <th>0</th>\n",
       "      <td>054</td>\n",
       "      <td>Azienda Unita' Sanitaria Locale Umbria 1</td>\n",
       "      <td>Perugia</td>\n",
       "      <td>Andrea</td>\n",
       "      <td>Casciari</td>\n",
       "      <td>6127</td>\n",
       "      <td>PG</td>\n",
       "      <td>Umbria</td>\n",
       "      <td>www.uslumbria1.gov.it</td>\n",
       "      <td>Via Guerriero Guerra, 21</td>\n",
       "      <td>Direttore Generale</td>\n",
       "      <td>Aziende Sanitarie Locali</td>\n",
       "      <td>Pubbliche Amministrazioni</td>\n",
       "      <td></td>\n",
       "      <td>S</td>\n",
       "      <td>3.301861e+09</td>\n",
       "      <td>aslumbria1@postacert.umbria.it</td>\n",
       "      <td>pec</td>\n",
       "      <td>NaN</td>\n",
       "      <td>NaN</td>\n",
       "      <td>NaN</td>\n",
       "      <td>NaN</td>\n",
       "      <td>NaN</td>\n",
       "      <td>NaN</td>\n",
       "      <td>NaN</td>\n",
       "      <td>NaN</td>\n",
       "      <td>NaN</td>\n",
       "      <td>NaN</td>\n",
       "      <td>NaN</td>\n",
       "      <td>NaN</td>\n",
       "      <td>1</td>\n",
       "    </tr>\n",
       "    <tr>\n",
       "      <th>1</th>\n",
       "      <td>055</td>\n",
       "      <td>Azienda Unita' Sanitaria Locale Umbria 2</td>\n",
       "      <td>Terni</td>\n",
       "      <td>Imolo</td>\n",
       "      <td>Fiaschini</td>\n",
       "      <td>5100</td>\n",
       "      <td>TR</td>\n",
       "      <td>Umbria</td>\n",
       "      <td>www.uslumbria2.it</td>\n",
       "      <td>Viale Donato Bramante, 37</td>\n",
       "      <td>Direttore Generale</td>\n",
       "      <td>Aziende Sanitarie Locali</td>\n",
       "      <td>Pubbliche Amministrazioni</td>\n",
       "      <td>ASLUMBRIA2</td>\n",
       "      <td>S</td>\n",
       "      <td>1.499591e+09</td>\n",
       "      <td>aslumbria2@postacert.umbria.it</td>\n",
       "      <td>pec</td>\n",
       "      <td>piero.carsili@uslumbria2.it</td>\n",
       "      <td>altro</td>\n",
       "      <td>alessio.cicioni@uslumbria2.it</td>\n",
       "      <td>altro</td>\n",
       "      <td>NaN</td>\n",
       "      <td>NaN</td>\n",
       "      <td>NaN</td>\n",
       "      <td>NaN</td>\n",
       "      <td>NaN</td>\n",
       "      <td>NaN</td>\n",
       "      <td>NaN</td>\n",
       "      <td>NaN</td>\n",
       "      <td>0</td>\n",
       "    </tr>\n",
       "    <tr>\n",
       "      <th>2</th>\n",
       "      <td>056</td>\n",
       "      <td>Azienda Unita' Sanitaria Locale Viterbo</td>\n",
       "      <td>Viterbo</td>\n",
       "      <td>Daniela</td>\n",
       "      <td>Donetti</td>\n",
       "      <td>1100</td>\n",
       "      <td>VT</td>\n",
       "      <td>Lazio</td>\n",
       "      <td>www.asl.vt.it</td>\n",
       "      <td>Via Enrico Fermi, 15</td>\n",
       "      <td>Direttore Generale</td>\n",
       "      <td>Aziende Sanitarie Locali</td>\n",
       "      <td>Pubbliche Amministrazioni</td>\n",
       "      <td>NaN</td>\n",
       "      <td>S</td>\n",
       "      <td>1.455571e+09</td>\n",
       "      <td>PROT.GEN.ASL.VT.IT@LEGALMAIL.IT</td>\n",
       "      <td>pec</td>\n",
       "      <td>alessandro.boccolini@asl.vt.it</td>\n",
       "      <td>altro</td>\n",
       "      <td>FRANCESCA.DIPIETRO@ASL.VT.IT</td>\n",
       "      <td>altro</td>\n",
       "      <td>PATRIZIA.PAOLETTI@ASL.VT.IT</td>\n",
       "      <td>altro</td>\n",
       "      <td>TANIA.MORANO@ASL.VT.IT</td>\n",
       "      <td>altro</td>\n",
       "      <td>NaN</td>\n",
       "      <td>NaN</td>\n",
       "      <td>NaN</td>\n",
       "      <td>NaN</td>\n",
       "      <td>0</td>\n",
       "    </tr>\n",
       "    <tr>\n",
       "      <th>3</th>\n",
       "      <td>058</td>\n",
       "      <td>Azienda Sanitaria Locale Roma 5</td>\n",
       "      <td>Tivoli</td>\n",
       "      <td>Giuseppe</td>\n",
       "      <td>Quintavalle</td>\n",
       "      <td>19</td>\n",
       "      <td>RM</td>\n",
       "      <td>Lazio</td>\n",
       "      <td>https://www.aslroma5.info</td>\n",
       "      <td>Via Acquaregna 1/15</td>\n",
       "      <td>Commissario Straordinario</td>\n",
       "      <td>Aziende Sanitarie Locali</td>\n",
       "      <td>Pubbliche Amministrazioni</td>\n",
       "      <td>NaN</td>\n",
       "      <td>S</td>\n",
       "      <td>4.733471e+09</td>\n",
       "      <td>protocollo@pec.aslromag.it</td>\n",
       "      <td>pec</td>\n",
       "      <td>protocollo@aslromag.it</td>\n",
       "      <td>altro</td>\n",
       "      <td>NaN</td>\n",
       "      <td>NaN</td>\n",
       "      <td>NaN</td>\n",
       "      <td>NaN</td>\n",
       "      <td>NaN</td>\n",
       "      <td>NaN</td>\n",
       "      <td>https://www.facebook.com/Azienda-Sanitaria-Loc...</td>\n",
       "      <td>NaN</td>\n",
       "      <td>NaN</td>\n",
       "      <td>NaN</td>\n",
       "      <td>0</td>\n",
       "    </tr>\n",
       "    <tr>\n",
       "      <th>4</th>\n",
       "      <td>080</td>\n",
       "      <td>Azienda Sanitaria Provinciale N. 5 di Reggio C...</td>\n",
       "      <td>Reggio Calabria</td>\n",
       "      <td>Giacomino</td>\n",
       "      <td>Brancati</td>\n",
       "      <td>89128</td>\n",
       "      <td>RC</td>\n",
       "      <td>Calabria</td>\n",
       "      <td>www.asp.rc.it</td>\n",
       "      <td>Via Sant'Anna II Tronco, 18/p</td>\n",
       "      <td>Direttore Generale</td>\n",
       "      <td>Aziende Sanitarie Locali</td>\n",
       "      <td>Pubbliche Amministrazioni</td>\n",
       "      <td>ASPRC</td>\n",
       "      <td>S</td>\n",
       "      <td>2.638721e+09</td>\n",
       "      <td>affarigenerali.asprc@certificatamail.it</td>\n",
       "      <td>pec</td>\n",
       "      <td>direzionegenerale@certificatamail.it</td>\n",
       "      <td>pec</td>\n",
       "      <td>direzionegenerale@asprc.it</td>\n",
       "      <td>altro</td>\n",
       "      <td>sia.asprc@asprc.it</td>\n",
       "      <td>altro</td>\n",
       "      <td>enzoschiavone@alice.it</td>\n",
       "      <td>altro</td>\n",
       "      <td>NaN</td>\n",
       "      <td>NaN</td>\n",
       "      <td>NaN</td>\n",
       "      <td>NaN</td>\n",
       "      <td>0</td>\n",
       "    </tr>\n",
       "    <tr>\n",
       "      <th>5</th>\n",
       "      <td>092</td>\n",
       "      <td>Azienda Ospedaliera Brotzu</td>\n",
       "      <td>Cagliari</td>\n",
       "      <td>Graziella</td>\n",
       "      <td>Pintus</td>\n",
       "      <td>9134</td>\n",
       "      <td>CA</td>\n",
       "      <td>Sardegna</td>\n",
       "      <td>www.aobrotzu.it</td>\n",
       "      <td>Piazzale A. Ricchi, 1</td>\n",
       "      <td>Direttore Generale</td>\n",
       "      <td>Aziende Sanitarie Locali</td>\n",
       "      <td>Pubbliche Amministrazioni</td>\n",
       "      <td>NaN</td>\n",
       "      <td>S</td>\n",
       "      <td>2.315521e+09</td>\n",
       "      <td>protocollo.generale@pec.aobrotzu.it</td>\n",
       "      <td>pec</td>\n",
       "      <td>NaN</td>\n",
       "      <td>NaN</td>\n",
       "      <td>NaN</td>\n",
       "      <td>NaN</td>\n",
       "      <td>NaN</td>\n",
       "      <td>NaN</td>\n",
       "      <td>NaN</td>\n",
       "      <td>NaN</td>\n",
       "      <td>NaN</td>\n",
       "      <td>NaN</td>\n",
       "      <td>NaN</td>\n",
       "      <td>NaN</td>\n",
       "      <td>0</td>\n",
       "    </tr>\n",
       "    <tr>\n",
       "      <th>6</th>\n",
       "      <td>093</td>\n",
       "      <td>Azienda Assistenza Sanitaria N.5 Friuli Occide...</td>\n",
       "      <td>Pordenone</td>\n",
       "      <td>Giorgio</td>\n",
       "      <td>Simon</td>\n",
       "      <td>33170</td>\n",
       "      <td>PN</td>\n",
       "      <td>Friuli Venezia Giulia</td>\n",
       "      <td>www.aas5.sanita.fvg.it</td>\n",
       "      <td>Via Vecchia Ceramica, 1</td>\n",
       "      <td>Direttore Generale</td>\n",
       "      <td>Aziende Sanitarie Locali</td>\n",
       "      <td>Pubbliche Amministrazioni</td>\n",
       "      <td>AAS5</td>\n",
       "      <td>S</td>\n",
       "      <td>1.772891e+09</td>\n",
       "      <td>aas5.protgen@certsanita.fvg.it</td>\n",
       "      <td>pec</td>\n",
       "      <td>NaN</td>\n",
       "      <td>NaN</td>\n",
       "      <td>NaN</td>\n",
       "      <td>NaN</td>\n",
       "      <td>NaN</td>\n",
       "      <td>NaN</td>\n",
       "      <td>NaN</td>\n",
       "      <td>NaN</td>\n",
       "      <td>NaN</td>\n",
       "      <td>NaN</td>\n",
       "      <td>NaN</td>\n",
       "      <td>NaN</td>\n",
       "      <td>0</td>\n",
       "    </tr>\n",
       "    <tr>\n",
       "      <th>7</th>\n",
       "      <td>102</td>\n",
       "      <td>Azienda Sanitaria Provinciale di Vibo Valentia</td>\n",
       "      <td>Vibo Valentia</td>\n",
       "      <td>Florindo</td>\n",
       "      <td>Antoniozzi</td>\n",
       "      <td>89900</td>\n",
       "      <td>VV</td>\n",
       "      <td>Calabria</td>\n",
       "      <td>www.aspvv.it</td>\n",
       "      <td>Via Dante Alighieri</td>\n",
       "      <td>Direttore Generale</td>\n",
       "      <td>Aziende Sanitarie Locali</td>\n",
       "      <td>Pubbliche Amministrazioni</td>\n",
       "      <td>NaN</td>\n",
       "      <td>S</td>\n",
       "      <td>2.866421e+09</td>\n",
       "      <td>aspvibovalentia@pec.it</td>\n",
       "      <td>pec</td>\n",
       "      <td>comunicazione@aspvv.it</td>\n",
       "      <td>altro</td>\n",
       "      <td>NaN</td>\n",
       "      <td>NaN</td>\n",
       "      <td>NaN</td>\n",
       "      <td>NaN</td>\n",
       "      <td>NaN</td>\n",
       "      <td>NaN</td>\n",
       "      <td>NaN</td>\n",
       "      <td>NaN</td>\n",
       "      <td>NaN</td>\n",
       "      <td>NaN</td>\n",
       "      <td>0</td>\n",
       "    </tr>\n",
       "    <tr>\n",
       "      <th>8</th>\n",
       "      <td>1CMVL</td>\n",
       "      <td>Comunita' Montana Valle del Liri Zona XV</td>\n",
       "      <td>Arce</td>\n",
       "      <td>Ing Prof Gianluca</td>\n",
       "      <td>Quadrini</td>\n",
       "      <td>3032</td>\n",
       "      <td>FR</td>\n",
       "      <td>Lazio</td>\n",
       "      <td>www.cmvalledelliri.gov.it</td>\n",
       "      <td>Via Borgo Murata 34/b</td>\n",
       "      <td>Presidente</td>\n",
       "      <td>Comunita' Montane e loro Consorzi e Associazioni</td>\n",
       "      <td>Pubbliche Amministrazioni</td>\n",
       "      <td>NaN</td>\n",
       "      <td>S</td>\n",
       "      <td>8.200441e+10</td>\n",
       "      <td>xvcmvalledelliri@pec.it</td>\n",
       "      <td>pec</td>\n",
       "      <td>info@xvcomunitamontanalazio.it</td>\n",
       "      <td>altro</td>\n",
       "      <td>NaN</td>\n",
       "      <td>NaN</td>\n",
       "      <td>NaN</td>\n",
       "      <td>NaN</td>\n",
       "      <td>NaN</td>\n",
       "      <td>NaN</td>\n",
       "      <td>NaN</td>\n",
       "      <td>NaN</td>\n",
       "      <td>NaN</td>\n",
       "      <td>NaN</td>\n",
       "      <td>0</td>\n",
       "    </tr>\n",
       "    <tr>\n",
       "      <th>9</th>\n",
       "      <td>a13_f952</td>\n",
       "      <td>Azienda Sanitaria Locale NO</td>\n",
       "      <td>Novara</td>\n",
       "      <td>ARABELLA</td>\n",
       "      <td>FONTANA</td>\n",
       "      <td>28100</td>\n",
       "      <td>NO</td>\n",
       "      <td>Piemonte</td>\n",
       "      <td>www.asl.novara.it</td>\n",
       "      <td>Viale Roma, 7</td>\n",
       "      <td>DIRETTORE GENERALE</td>\n",
       "      <td>Aziende Sanitarie Locali</td>\n",
       "      <td>Pubbliche Amministrazioni</td>\n",
       "      <td>NaN</td>\n",
       "      <td>S</td>\n",
       "      <td>1.522670e+09</td>\n",
       "      <td>protocollogenerale@pec.asl.novara.it</td>\n",
       "      <td>pec</td>\n",
       "      <td>direzione@asl.novara.it</td>\n",
       "      <td>altro</td>\n",
       "      <td>protocollo.nov@asl.novara.it</td>\n",
       "      <td>altro</td>\n",
       "      <td>NaN</td>\n",
       "      <td>NaN</td>\n",
       "      <td>NaN</td>\n",
       "      <td>NaN</td>\n",
       "      <td>https://www.facebook.com/Asl-Novara-1431994940...</td>\n",
       "      <td>NaN</td>\n",
       "      <td>NaN</td>\n",
       "      <td>NaN</td>\n",
       "      <td>0</td>\n",
       "    </tr>\n",
       "  </tbody>\n",
       "</table>\n",
       "</div>"
      ],
      "text/plain": [
       "    cod_amm                                            des_amm           Comune          nome_resp    cogn_resp    Cap Provincia                Regione         sito_istituzionale                      Indirizzo                titolo_resp                                   tipologia_istat              tipologia_amm    acronimo cf_validato            Cf                                    mail1 tipo_mail1                                 mail2 tipo_mail2                          mail3 tipo_mail3  \\\n",
       "0       054           Azienda Unita' Sanitaria Locale Umbria 1          Perugia             Andrea     Casciari   6127        PG                 Umbria      www.uslumbria1.gov.it       Via Guerriero Guerra, 21         Direttore Generale                          Aziende Sanitarie Locali  Pubbliche Amministrazioni                       S  3.301861e+09           aslumbria1@postacert.umbria.it        pec                                   NaN        NaN                            NaN        NaN   \n",
       "1       055           Azienda Unita' Sanitaria Locale Umbria 2            Terni              Imolo    Fiaschini   5100        TR                 Umbria          www.uslumbria2.it      Viale Donato Bramante, 37         Direttore Generale                          Aziende Sanitarie Locali  Pubbliche Amministrazioni  ASLUMBRIA2           S  1.499591e+09           aslumbria2@postacert.umbria.it        pec           piero.carsili@uslumbria2.it      altro  alessio.cicioni@uslumbria2.it      altro   \n",
       "2       056            Azienda Unita' Sanitaria Locale Viterbo          Viterbo            Daniela      Donetti   1100        VT                  Lazio              www.asl.vt.it           Via Enrico Fermi, 15         Direttore Generale                          Aziende Sanitarie Locali  Pubbliche Amministrazioni         NaN           S  1.455571e+09          PROT.GEN.ASL.VT.IT@LEGALMAIL.IT        pec        alessandro.boccolini@asl.vt.it      altro   FRANCESCA.DIPIETRO@ASL.VT.IT      altro   \n",
       "3       058                    Azienda Sanitaria Locale Roma 5           Tivoli           Giuseppe  Quintavalle     19        RM                  Lazio  https://www.aslroma5.info            Via Acquaregna 1/15  Commissario Straordinario                          Aziende Sanitarie Locali  Pubbliche Amministrazioni         NaN           S  4.733471e+09               protocollo@pec.aslromag.it        pec                protocollo@aslromag.it      altro                            NaN        NaN   \n",
       "4       080  Azienda Sanitaria Provinciale N. 5 di Reggio C...  Reggio Calabria          Giacomino     Brancati  89128        RC               Calabria              www.asp.rc.it  Via Sant'Anna II Tronco, 18/p         Direttore Generale                          Aziende Sanitarie Locali  Pubbliche Amministrazioni       ASPRC           S  2.638721e+09  affarigenerali.asprc@certificatamail.it        pec  direzionegenerale@certificatamail.it        pec     direzionegenerale@asprc.it      altro   \n",
       "5       092                         Azienda Ospedaliera Brotzu         Cagliari          Graziella       Pintus   9134        CA               Sardegna            www.aobrotzu.it          Piazzale A. Ricchi, 1         Direttore Generale                          Aziende Sanitarie Locali  Pubbliche Amministrazioni         NaN           S  2.315521e+09      protocollo.generale@pec.aobrotzu.it        pec                                   NaN        NaN                            NaN        NaN   \n",
       "6       093  Azienda Assistenza Sanitaria N.5 Friuli Occide...        Pordenone            Giorgio        Simon  33170        PN  Friuli Venezia Giulia     www.aas5.sanita.fvg.it        Via Vecchia Ceramica, 1         Direttore Generale                          Aziende Sanitarie Locali  Pubbliche Amministrazioni        AAS5           S  1.772891e+09           aas5.protgen@certsanita.fvg.it        pec                                   NaN        NaN                            NaN        NaN   \n",
       "7       102     Azienda Sanitaria Provinciale di Vibo Valentia    Vibo Valentia           Florindo   Antoniozzi  89900        VV               Calabria               www.aspvv.it            Via Dante Alighieri         Direttore Generale                          Aziende Sanitarie Locali  Pubbliche Amministrazioni         NaN           S  2.866421e+09                   aspvibovalentia@pec.it        pec                comunicazione@aspvv.it      altro                            NaN        NaN   \n",
       "8     1CMVL           Comunita' Montana Valle del Liri Zona XV             Arce  Ing Prof Gianluca     Quadrini   3032        FR                  Lazio  www.cmvalledelliri.gov.it          Via Borgo Murata 34/b                 Presidente  Comunita' Montane e loro Consorzi e Associazioni  Pubbliche Amministrazioni         NaN           S  8.200441e+10                  xvcmvalledelliri@pec.it        pec        info@xvcomunitamontanalazio.it      altro                            NaN        NaN   \n",
       "9  a13_f952                        Azienda Sanitaria Locale NO           Novara           ARABELLA      FONTANA  28100        NO               Piemonte          www.asl.novara.it                  Viale Roma, 7         DIRETTORE GENERALE                          Aziende Sanitarie Locali  Pubbliche Amministrazioni         NaN           S  1.522670e+09     protocollogenerale@pec.asl.novara.it        pec               direzione@asl.novara.it      altro   protocollo.nov@asl.novara.it      altro   \n",
       "\n",
       "                         mail4 tipo_mail4                   mail5 tipo_mail5                                       url_facebook url_twitter url_googleplus url_youtube  liv_accessibili  \n",
       "0                          NaN        NaN                     NaN        NaN                                                NaN         NaN            NaN         NaN                1  \n",
       "1                          NaN        NaN                     NaN        NaN                                                NaN         NaN            NaN         NaN                0  \n",
       "2  PATRIZIA.PAOLETTI@ASL.VT.IT      altro  TANIA.MORANO@ASL.VT.IT      altro                                                NaN         NaN            NaN         NaN                0  \n",
       "3                          NaN        NaN                     NaN        NaN  https://www.facebook.com/Azienda-Sanitaria-Loc...         NaN            NaN         NaN                0  \n",
       "4           sia.asprc@asprc.it      altro  enzoschiavone@alice.it      altro                                                NaN         NaN            NaN         NaN                0  \n",
       "5                          NaN        NaN                     NaN        NaN                                                NaN         NaN            NaN         NaN                0  \n",
       "6                          NaN        NaN                     NaN        NaN                                                NaN         NaN            NaN         NaN                0  \n",
       "7                          NaN        NaN                     NaN        NaN                                                NaN         NaN            NaN         NaN                0  \n",
       "8                          NaN        NaN                     NaN        NaN                                                NaN         NaN            NaN         NaN                0  \n",
       "9                          NaN        NaN                     NaN        NaN  https://www.facebook.com/Asl-Novara-1431994940...         NaN            NaN         NaN                0  "
      ]
     },
     "execution_count": 43,
     "metadata": {},
     "output_type": "execute_result"
    }
   ],
   "source": [
    "#Amminstrazioni\n",
    "#amministrazioni = pd.read_csv(\"amministrazioni.txt\", sep=\"\\t\")\n",
    "amministrazioni = pd.read_csv(u_amministrazioni, sep=\"\\t\")\n",
    "amministrazioni.head(10)"
   ]
  },
  {
   "cell_type": "code",
   "execution_count": 35,
   "metadata": {},
   "outputs": [
    {
     "data": {
      "text/plain": [
       "cod_amm                   0\n",
       "des_amm                   0\n",
       "Comune                    0\n",
       "nome_resp                 0\n",
       "cogn_resp                 0\n",
       "Cap                       0\n",
       "Provincia               745\n",
       "Regione                   0\n",
       "sito_istituzionale      897\n",
       "Indirizzo                 0\n",
       "titolo_resp               1\n",
       "tipologia_istat           0\n",
       "tipologia_amm             0\n",
       "acronimo              19145\n",
       "cf_validato               0\n",
       "Cf                        1\n",
       "mail1                     1\n",
       "tipo_mail1                1\n",
       "mail2                  5073\n",
       "tipo_mail2             5073\n",
       "mail3                 20060\n",
       "tipo_mail3            20060\n",
       "mail4                 21705\n",
       "tipo_mail4            21705\n",
       "mail5                 22125\n",
       "tipo_mail5            22125\n",
       "url_facebook          21441\n",
       "url_twitter           22245\n",
       "url_googleplus        22630\n",
       "url_youtube           22245\n",
       "liv_accessibili           0\n",
       "dtype: int64"
      ]
     },
     "execution_count": 35,
     "metadata": {},
     "output_type": "execute_result"
    }
   ],
   "source": [
    "amministrazioni.isnull().sum()"
   ]
  },
  {
   "cell_type": "code",
   "execution_count": 32,
   "metadata": {},
   "outputs": [
    {
     "data": {
      "text/plain": [
       "(22805, 31)"
      ]
     },
     "execution_count": 32,
     "metadata": {},
     "output_type": "execute_result"
    }
   ],
   "source": [
    "amministrazioni.shape"
   ]
  },
  {
   "cell_type": "code",
   "execution_count": 37,
   "metadata": {},
   "outputs": [
    {
     "data": {
      "text/plain": [
       "Lombardia                3307\n",
       "Piemonte                 2349\n",
       "Campania                 1907\n",
       "Sicilia                  1768\n",
       "Lazio                    1683\n",
       "Veneto                   1658\n",
       "Emilia Romagna           1263\n",
       "Puglia                   1220\n",
       "Toscana                  1140\n",
       "Calabria                  973\n",
       "Trentino Alto Adige       968\n",
       "Sardegna                  880\n",
       "Abruzzo                   710\n",
       "Marche                    679\n",
       "Liguria                   596\n",
       "Friuli Venezia Giulia     574\n",
       "Basilicata                354\n",
       "Umbria                    341\n",
       "Molise                    279\n",
       "Valle D'Aosta             156\n",
       "Name: Regione, dtype: int64"
      ]
     },
     "execution_count": 37,
     "metadata": {},
     "output_type": "execute_result"
    }
   ],
   "source": [
    "amministrazioni.Regione.value_counts()"
   ]
  },
  {
   "cell_type": "code",
   "execution_count": 39,
   "metadata": {},
   "outputs": [],
   "source": [
    "by_regione = amministrazioni.groupby('Regione')"
   ]
  },
  {
   "cell_type": "code",
   "execution_count": 42,
   "metadata": {},
   "outputs": [
    {
     "data": {
      "text/plain": [
       "<matplotlib.axes._subplots.AxesSubplot at 0x122f63828>"
      ]
     },
     "execution_count": 42,
     "metadata": {},
     "output_type": "execute_result"
    },
    {
     "data": {
      "image/png": "[encoded data removed]",
      "text/plain": [
       "<Figure size 432x288 with 1 Axes>"
      ]
     },
     "metadata": {
      "needs_background": "light"
     },
     "output_type": "display_data"
    }
   ],
   "source": [
    "by_regione.size().sort_values(ascending=True).plot(kind='barh')"
   ]
  },
  {
   "cell_type": "markdown",
   "metadata": {},
   "source": [
    "### Aree Organizzative Omogenee"
   ]
  },
  {
   "cell_type": "code",
   "execution_count": 49,
   "metadata": {},
   "outputs": [
    {
     "name": "stderr",
     "output_type": "stream",
     "text": [
      "/Users/mariaclaudiabodino/anaconda3/lib/python3.6/site-packages/IPython/core/interactiveshell.py:3020: DtypeWarning: Columns (9,13,14) have mixed types. Specify dtype option on import or set low_memory=False.\n",
      "  interactivity=interactivity, compiler=compiler, result=result)\n"
     ]
    },
    {
     "data": {
      "text/plain": [
       "cod_amm            0\n",
       "cod_aoo            0\n",
       "des_aoo            0\n",
       "dat_istituz        0\n",
       "Comune          2048\n",
       "Cap              803\n",
       "Provincia       1821\n",
       "Regione          767\n",
       "Indirizzo        915\n",
       "Tel             6296\n",
       "nome_resp          4\n",
       "cogn_resp          4\n",
       "mail_resp      15049\n",
       "tel_resp       17094\n",
       "Fax            18656\n",
       "mail1              0\n",
       "tipo_mail1         0\n",
       "mail2          31120\n",
       "tipo_mail2     31120\n",
       "mail3          32124\n",
       "tipo_mail3     32124\n",
       "dtype: int64"
      ]
     },
     "execution_count": 49,
     "metadata": {},
     "output_type": "execute_result"
    }
   ],
   "source": [
    "#aoo = pd.read_csv(\"aoo.txt\", sep=\"\\t\")\n",
    "aoo = pd.read_csv(u_aoo, sep=\"\\t\")\n",
    "aoo.isnull().sum()"
   ]
  },
  {
   "cell_type": "code",
   "execution_count": 22,
   "metadata": {},
   "outputs": [
    {
     "data": {
      "text/plain": [
       "cod_ou              0\n",
       "cod_aoo         77205\n",
       "des_ou              0\n",
       "comune            147\n",
       "Cap               147\n",
       "provincia        3047\n",
       "Regione           147\n",
       "Indirizzo         231\n",
       "Tel             46533\n",
       "nome_resp        1208\n",
       "cogn_resp        1218\n",
       "mail_resp       43791\n",
       "tel_resp        61414\n",
       "cod_amm             0\n",
       "cod_ou_padre    69110\n",
       "Fax             67832\n",
       "cod_uni_ou          0\n",
       "mail1           11390\n",
       "tipo_mail1      11390\n",
       "mail2           83784\n",
       "tipo_mail2      83784\n",
       "mail3           94689\n",
       "tipo_mail3      94689\n",
       "dtype: int64"
      ]
     },
     "execution_count": 22,
     "metadata": {},
     "output_type": "execute_result"
    }
   ],
   "source": [
    "#Unità Organizzative\n",
    "ou = pd.read_csv(\"ou.txt\", sep=\"\\t\")\n",
    "ou.isnull().sum()"
   ]
  },
  {
   "cell_type": "markdown",
   "metadata": {},
   "source": [
    "### Servizi amministrazione"
   ]
  },
  {
   "cell_type": "code",
   "execution_count": 23,
   "metadata": {},
   "outputs": [
    {
     "data": {
      "text/plain": [
       "cod_ou              0\n",
       "cod_aoo         77205\n",
       "des_ou              0\n",
       "comune            147\n",
       "Cap               147\n",
       "provincia        3047\n",
       "Regione           147\n",
       "Indirizzo         231\n",
       "Tel             46533\n",
       "nome_resp        1208\n",
       "cogn_resp        1218\n",
       "mail_resp       43791\n",
       "tel_resp        61414\n",
       "cod_amm             0\n",
       "cod_ou_padre    69110\n",
       "Fax             67832\n",
       "cod_uni_ou          0\n",
       "mail1           11390\n",
       "tipo_mail1      11390\n",
       "mail2           83784\n",
       "tipo_mail2      83784\n",
       "mail3           94689\n",
       "tipo_mail3      94689\n",
       "dtype: int64"
      ]
     },
     "execution_count": 23,
     "metadata": {},
     "output_type": "execute_result"
    }
   ],
   "source": [
    "serv = pd.read_csv(\"serv_amm.txt\", sep=\"\\t\")  \n",
    "ou.isnull().sum()"
   ]
  },
  {
   "cell_type": "markdown",
   "metadata": {},
   "source": [
    "### Servizi aree Organizzative Omogenee"
   ]
  },
  {
   "cell_type": "code",
   "execution_count": 24,
   "metadata": {},
   "outputs": [
    {
     "data": {
      "text/plain": [
       "cod_amm           0\n",
       "cod_aoo           0\n",
       "prg_srv_aoo       0\n",
       "nome_srv          0\n",
       "des_srv         192\n",
       "tel_srv        1394\n",
       "uri_srv        1363\n",
       "mail_srv       1014\n",
       "tipo_mail         0\n",
       "dtype: int64"
      ]
     },
     "execution_count": 24,
     "metadata": {},
     "output_type": "execute_result"
    }
   ],
   "source": [
    "#Servizi aree Organizzative Omogenee\n",
    "serv_aoo = pd.read_csv(\"serv_aoo.txt\", sep=\"\\t\") \n",
    "serv_aoo.isnull().sum()"
   ]
  },
  {
   "cell_type": "code",
   "execution_count": 25,
   "metadata": {},
   "outputs": [
    {
     "data": {
      "text/plain": [
       "cod_ou           0\n",
       "cod_amm          0\n",
       "prg_srv_ou       0\n",
       "nome_srv         0\n",
       "des_srv         72\n",
       "tel_srv        799\n",
       "uri_srv       1440\n",
       "mail_srv       457\n",
       "tipo_mail        0\n",
       "dtype: int64"
      ]
     },
     "execution_count": 25,
     "metadata": {},
     "output_type": "execute_result"
    }
   ],
   "source": [
    "#Servizi Unità Organizzative \n",
    "serv_ou = pd.read_csv(\"serv_ou.txt\", sep=\"\\t\")  \n",
    "serv_ou.isnull().sum()"
   ]
  },
  {
   "cell_type": "code",
   "execution_count": null,
   "metadata": {},
   "outputs": [],
   "source": [
    "pec = pd.read_csv(\"pec.txt\", sep=\"\\t\")"
   ]
  },
  {
   "cell_type": "code",
   "execution_count": 26,
   "metadata": {},
   "outputs": [
    {
     "data": {
      "text/plain": [
       "cod_amm               0\n",
       "Descrizione           1\n",
       "Tipo                  0\n",
       "Tipologia Istat       0\n",
       "Regione             878\n",
       "Provincia          5332\n",
       "Comune             2138\n",
       "Mail                  0\n",
       "Tipo Mail             0\n",
       "dtype: int64"
      ]
     },
     "execution_count": 26,
     "metadata": {},
     "output_type": "execute_result"
    }
   ],
   "source": [
    "pec.isnull().sum()"
   ]
  },
  {
   "cell_type": "code",
   "execution_count": null,
   "metadata": {},
   "outputs": [],
   "source": []
  }
 ],
 "metadata": {
  "kernelspec": {
   "display_name": "Python 3",
   "language": "python",
   "name": "python3"
  },
  "language_info": {
   "codemirror_mode": {
    "name": "ipython",
    "version": 3
   },
   "file_extension": ".py",
   "mimetype": "text/x-python",
   "name": "python",
   "nbconvert_exporter": "python",
   "pygments_lexer": "ipython3",
   "version": "3.6.6"
  }
 },
 "nbformat": 4,
 "nbformat_minor": 2
}
